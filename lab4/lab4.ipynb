{
 "cells": [
  {
   "cell_type": "markdown",
   "id": "39f6c8b1",
   "metadata": {},
   "source": [
    "# Лабораторная работа №4: \"Создание рекомендательной модели.\"\n",
    "\n",
    "## ИУ5-23 Зорин Арсений\n",
    "\n",
    "**Задание:**\n",
    "- Выбрать произвольный набор данных (датасет), предназначенный для построения рекомендательных моделей;\n",
    "- Опираясь на материалы лекции, сформировать рекомендации для одного пользователя (объекта) двумя произвольными способами;\n",
    "- Сравнить полученные рекомендации (если это возможно, то с применением метрик)."
   ]
  },
  {
   "cell_type": "code",
   "execution_count": 33,
   "id": "4d9122b7",
   "metadata": {},
   "outputs": [
    {
     "data": {
      "text/html": [
       "<div>\n",
       "<style scoped>\n",
       "    .dataframe tbody tr th:only-of-type {\n",
       "        vertical-align: middle;\n",
       "    }\n",
       "\n",
       "    .dataframe tbody tr th {\n",
       "        vertical-align: top;\n",
       "    }\n",
       "\n",
       "    .dataframe thead th {\n",
       "        text-align: right;\n",
       "    }\n",
       "</style>\n",
       "<table border=\"1\" class=\"dataframe\">\n",
       "  <thead>\n",
       "    <tr style=\"text-align: right;\">\n",
       "      <th></th>\n",
       "      <th>Company</th>\n",
       "      <th>Product</th>\n",
       "      <th>TypeName</th>\n",
       "      <th>Inches</th>\n",
       "      <th>ScreenResolution</th>\n",
       "      <th>Cpu</th>\n",
       "      <th>Ram</th>\n",
       "      <th>Memory</th>\n",
       "      <th>Gpu</th>\n",
       "      <th>OpSys</th>\n",
       "      <th>Weight</th>\n",
       "      <th>Price_euros</th>\n",
       "    </tr>\n",
       "    <tr>\n",
       "      <th>laptop_ID</th>\n",
       "      <th></th>\n",
       "      <th></th>\n",
       "      <th></th>\n",
       "      <th></th>\n",
       "      <th></th>\n",
       "      <th></th>\n",
       "      <th></th>\n",
       "      <th></th>\n",
       "      <th></th>\n",
       "      <th></th>\n",
       "      <th></th>\n",
       "      <th></th>\n",
       "    </tr>\n",
       "  </thead>\n",
       "  <tbody>\n",
       "    <tr>\n",
       "      <th>1</th>\n",
       "      <td>Apple</td>\n",
       "      <td>MacBook Pro</td>\n",
       "      <td>Ultrabook</td>\n",
       "      <td>13.3</td>\n",
       "      <td>IPS Panel Retina Display 2560x1600</td>\n",
       "      <td>Intel Core i5 2.3GHz</td>\n",
       "      <td>8GB</td>\n",
       "      <td>128GB SSD</td>\n",
       "      <td>Intel Iris Plus Graphics 640</td>\n",
       "      <td>macOS</td>\n",
       "      <td>1.37kg</td>\n",
       "      <td>1339.69</td>\n",
       "    </tr>\n",
       "    <tr>\n",
       "      <th>2</th>\n",
       "      <td>Apple</td>\n",
       "      <td>Macbook Air</td>\n",
       "      <td>Ultrabook</td>\n",
       "      <td>13.3</td>\n",
       "      <td>1440x900</td>\n",
       "      <td>Intel Core i5 1.8GHz</td>\n",
       "      <td>8GB</td>\n",
       "      <td>128GB Flash Storage</td>\n",
       "      <td>Intel HD Graphics 6000</td>\n",
       "      <td>macOS</td>\n",
       "      <td>1.34kg</td>\n",
       "      <td>898.94</td>\n",
       "    </tr>\n",
       "    <tr>\n",
       "      <th>3</th>\n",
       "      <td>HP</td>\n",
       "      <td>250 G6</td>\n",
       "      <td>Notebook</td>\n",
       "      <td>15.6</td>\n",
       "      <td>Full HD 1920x1080</td>\n",
       "      <td>Intel Core i5 7200U 2.5GHz</td>\n",
       "      <td>8GB</td>\n",
       "      <td>256GB SSD</td>\n",
       "      <td>Intel HD Graphics 620</td>\n",
       "      <td>No OS</td>\n",
       "      <td>1.86kg</td>\n",
       "      <td>575.00</td>\n",
       "    </tr>\n",
       "    <tr>\n",
       "      <th>4</th>\n",
       "      <td>Apple</td>\n",
       "      <td>MacBook Pro</td>\n",
       "      <td>Ultrabook</td>\n",
       "      <td>15.4</td>\n",
       "      <td>IPS Panel Retina Display 2880x1800</td>\n",
       "      <td>Intel Core i7 2.7GHz</td>\n",
       "      <td>16GB</td>\n",
       "      <td>512GB SSD</td>\n",
       "      <td>AMD Radeon Pro 455</td>\n",
       "      <td>macOS</td>\n",
       "      <td>1.83kg</td>\n",
       "      <td>2537.45</td>\n",
       "    </tr>\n",
       "    <tr>\n",
       "      <th>5</th>\n",
       "      <td>Apple</td>\n",
       "      <td>MacBook Pro</td>\n",
       "      <td>Ultrabook</td>\n",
       "      <td>13.3</td>\n",
       "      <td>IPS Panel Retina Display 2560x1600</td>\n",
       "      <td>Intel Core i5 3.1GHz</td>\n",
       "      <td>8GB</td>\n",
       "      <td>256GB SSD</td>\n",
       "      <td>Intel Iris Plus Graphics 650</td>\n",
       "      <td>macOS</td>\n",
       "      <td>1.37kg</td>\n",
       "      <td>1803.60</td>\n",
       "    </tr>\n",
       "  </tbody>\n",
       "</table>\n",
       "</div>"
      ],
      "text/plain": [
       "          Company      Product   TypeName  Inches  \\\n",
       "laptop_ID                                           \n",
       "1           Apple  MacBook Pro  Ultrabook    13.3   \n",
       "2           Apple  Macbook Air  Ultrabook    13.3   \n",
       "3              HP       250 G6   Notebook    15.6   \n",
       "4           Apple  MacBook Pro  Ultrabook    15.4   \n",
       "5           Apple  MacBook Pro  Ultrabook    13.3   \n",
       "\n",
       "                             ScreenResolution                         Cpu  \\\n",
       "laptop_ID                                                                   \n",
       "1          IPS Panel Retina Display 2560x1600        Intel Core i5 2.3GHz   \n",
       "2                                    1440x900        Intel Core i5 1.8GHz   \n",
       "3                           Full HD 1920x1080  Intel Core i5 7200U 2.5GHz   \n",
       "4          IPS Panel Retina Display 2880x1800        Intel Core i7 2.7GHz   \n",
       "5          IPS Panel Retina Display 2560x1600        Intel Core i5 3.1GHz   \n",
       "\n",
       "            Ram               Memory                           Gpu  OpSys  \\\n",
       "laptop_ID                                                                   \n",
       "1           8GB            128GB SSD  Intel Iris Plus Graphics 640  macOS   \n",
       "2           8GB  128GB Flash Storage        Intel HD Graphics 6000  macOS   \n",
       "3           8GB            256GB SSD         Intel HD Graphics 620  No OS   \n",
       "4          16GB            512GB SSD            AMD Radeon Pro 455  macOS   \n",
       "5           8GB            256GB SSD  Intel Iris Plus Graphics 650  macOS   \n",
       "\n",
       "           Weight  Price_euros  \n",
       "laptop_ID                       \n",
       "1          1.37kg      1339.69  \n",
       "2          1.34kg       898.94  \n",
       "3          1.86kg       575.00  \n",
       "4          1.83kg      2537.45  \n",
       "5          1.37kg      1803.60  "
      ]
     },
     "execution_count": 33,
     "metadata": {},
     "output_type": "execute_result"
    }
   ],
   "source": [
    "import numpy as np\n",
    "import pandas as pd\n",
    "from typing import Dict, Tuple\n",
    "from scipy import stats\n",
    "from sklearn.feature_extraction.text import CountVectorizer, TfidfVectorizer\n",
    "from sklearn.neighbors import KNeighborsRegressor, KNeighborsClassifier\n",
    "from sklearn.model_selection import GridSearchCV, RandomizedSearchCV\n",
    "from sklearn.metrics import confusion_matrix\n",
    "from sklearn.metrics.pairwise import cosine_similarity, euclidean_distances, manhattan_distances\n",
    "from surprise import SVD, Dataset, Reader\n",
    "import seaborn as sns\n",
    "import matplotlib.pyplot as plt\n",
    "from matplotlib_venn import venn2\n",
    "\n",
    "data = pd.read_csv('../datasets/laptop/laptop_price.csv')\n",
    "data = data.set_index('laptop_ID')\n",
    "data.head()"
   ]
  },
  {
   "cell_type": "code",
   "execution_count": 34,
   "id": "5fb8181b",
   "metadata": {},
   "outputs": [
    {
     "data": {
      "text/plain": [
       "array(['Apple', 'Apple', 'HP', 'Apple', 'Apple'], dtype=object)"
      ]
     },
     "execution_count": 34,
     "metadata": {},
     "output_type": "execute_result"
    }
   ],
   "source": [
    "company = data['Company'].values\n",
    "company[0:5]"
   ]
  },
  {
   "cell_type": "code",
   "execution_count": 35,
   "id": "0d6a52ab",
   "metadata": {},
   "outputs": [
    {
     "data": {
      "text/plain": [
       "array(['MacBook Pro', 'Macbook Air', '250 G6', 'MacBook Pro',\n",
       "       'MacBook Pro'], dtype=object)"
      ]
     },
     "execution_count": 35,
     "metadata": {},
     "output_type": "execute_result"
    }
   ],
   "source": [
    "product = data['Product'].values\n",
    "product[0:5]"
   ]
  },
  {
   "cell_type": "code",
   "execution_count": 36,
   "id": "3ed24893",
   "metadata": {},
   "outputs": [
    {
     "data": {
      "text/plain": [
       "array(['Intel Core i5 2.3GHz', 'Intel Core i5 1.8GHz',\n",
       "       'Intel Core i5 7200U 2.5GHz', 'Intel Core i7 2.7GHz',\n",
       "       'Intel Core i5 3.1GHz'], dtype=object)"
      ]
     },
     "execution_count": 36,
     "metadata": {},
     "output_type": "execute_result"
    }
   ],
   "source": [
    "cpu = data['Cpu'].values\n",
    "cpu[0:5]"
   ]
  },
  {
   "cell_type": "code",
   "execution_count": 37,
   "id": "b298a0e5",
   "metadata": {},
   "outputs": [
    {
     "data": {
      "text/plain": [
       "array(['Intel Iris Plus Graphics 640', 'Intel HD Graphics 6000',\n",
       "       'Intel HD Graphics 620', 'AMD Radeon Pro 455',\n",
       "       'Intel Iris Plus Graphics 650'], dtype=object)"
      ]
     },
     "execution_count": 37,
     "metadata": {},
     "output_type": "execute_result"
    }
   ],
   "source": [
    "gpu = data['Gpu'].values\n",
    "gpu[0:5]"
   ]
  },
  {
   "cell_type": "code",
   "execution_count": 38,
   "id": "38cbbb58",
   "metadata": {},
   "outputs": [],
   "source": [
    "class SimpleKNNRecommender:\n",
    "    \n",
    "    def __init__(self, X_matrix, X_company, X_product, X_cpu, X_gpu):\n",
    "        \"\"\"\n",
    "        Входные параметры:\n",
    "        X_matrix - обучающая выборка (матрица объект-признак)\n",
    "        \"\"\"\n",
    "        #Сохраняем параметры в переменных объекта\n",
    "        self._X_matrix = X_matrix\n",
    "        self.df = pd.DataFrame(\n",
    "            {'company': pd.Series(X_company, dtype='str'),\n",
    "            'product': pd.Series(X_product, dtype='str'),\n",
    "            'cpu': pd.Series(X_cpu, dtype='str'),\n",
    "            'gpu': pd.Series(X_gpu, dtype='str'),\n",
    "            'dist': pd.Series([], dtype='float')})\n",
    "            \n",
    "            \n",
    "    def recommend_for_single_object(self, K: int, \\\n",
    "                X_matrix_object, cos_flag = True, manh_flag = False):\n",
    "        \"\"\"\n",
    "        Метод формирования рекомендаций для одного объекта.\n",
    "        Входные параметры:\n",
    "        K - количество рекомендуемых соседей \n",
    "        X_matrix_object - строка матрицы объект-признак, соответствующая объекту\n",
    "        cos_flag - флаг вычисления косинусного расстояния\n",
    "        manh_flag - флаг вычисления манхэттэнского расстояния\n",
    "        Возвращаемое значение: K найденных соседей\n",
    "        \"\"\"\n",
    "        \n",
    "        scale = 1000000\n",
    "        # Вычисляем косинусную близость\n",
    "        if cos_flag:\n",
    "            dist = cosine_similarity(self._X_matrix, X_matrix_object)\n",
    "            self.df['dist'] = dist * scale\n",
    "            res = self.df.sort_values(by='dist', ascending=False)\n",
    "            # Не учитываем рекомендации с единичным расстоянием,\n",
    "            # так как это искомый объект\n",
    "            res = res[res['dist'] < scale]\n",
    "        \n",
    "        else:\n",
    "            if manh_flag:\n",
    "                dist = manhattan_distances(self._X_matrix, X_matrix_object)\n",
    "            else:\n",
    "                dist = euclidean_distances(self._X_matrix, X_matrix_object)\n",
    "            self.df['dist'] = dist * scale\n",
    "            res = self.df.sort_values(by='dist', ascending=True)\n",
    "            # Не учитываем рекомендации с единичным расстоянием,\n",
    "            # так как это искомый объект\n",
    "            res = res[res['dist'] > 0.0]            \n",
    "        \n",
    "        # Оставляем К первых рекомендаций\n",
    "        res = res.head(K)\n",
    "        return res"
   ]
  },
  {
   "cell_type": "code",
   "execution_count": 39,
   "id": "8b272a89",
   "metadata": {},
   "outputs": [
    {
     "name": "stdout",
     "output_type": "stream",
     "text": [
      "CPU times: user 7.39 ms, sys: 935 µs, total: 8.33 ms\n",
      "Wall time: 7.46 ms\n"
     ]
    },
    {
     "data": {
      "text/plain": [
       "<1303x705 sparse matrix of type '<class 'numpy.float64'>'\n",
       "\twith 3641 stored elements in Compressed Sparse Row format>"
      ]
     },
     "execution_count": 39,
     "metadata": {},
     "output_type": "execute_result"
    }
   ],
   "source": [
    "%%time\n",
    "tfidfv = TfidfVectorizer()\n",
    "matrix = tfidfv.fit_transform(product)\n",
    "matrix"
   ]
  },
  {
   "cell_type": "code",
   "execution_count": 52,
   "id": "457e1f4c",
   "metadata": {},
   "outputs": [
    {
     "data": {
      "text/plain": [
       "Company                                          Apple\n",
       "Product                                    MacBook Pro\n",
       "TypeName                                     Ultrabook\n",
       "Inches                                            13.3\n",
       "ScreenResolution    IPS Panel Retina Display 2560x1600\n",
       "Cpu                               Intel Core i5 2.3GHz\n",
       "Ram                                                8GB\n",
       "Memory                                       128GB SSD\n",
       "Gpu                       Intel Iris Plus Graphics 640\n",
       "OpSys                                            macOS\n",
       "Weight                                          1.37kg\n",
       "Price_euros                                    1339.69\n",
       "Name: 1, dtype: object"
      ]
     },
     "execution_count": 52,
     "metadata": {},
     "output_type": "execute_result"
    }
   ],
   "source": [
    "data.iloc[0]"
   ]
  },
  {
   "cell_type": "code",
   "execution_count": 42,
   "id": "74ce6744",
   "metadata": {},
   "outputs": [],
   "source": [
    "skr1 = SimpleKNNRecommender(matrix, company, product, cpu, gpu)"
   ]
  },
  {
   "cell_type": "code",
   "execution_count": 44,
   "id": "9a68c842",
   "metadata": {},
   "outputs": [
    {
     "data": {
      "text/html": [
       "<div>\n",
       "<style scoped>\n",
       "    .dataframe tbody tr th:only-of-type {\n",
       "        vertical-align: middle;\n",
       "    }\n",
       "\n",
       "    .dataframe tbody tr th {\n",
       "        vertical-align: top;\n",
       "    }\n",
       "\n",
       "    .dataframe thead th {\n",
       "        text-align: right;\n",
       "    }\n",
       "</style>\n",
       "<table border=\"1\" class=\"dataframe\">\n",
       "  <thead>\n",
       "    <tr style=\"text-align: right;\">\n",
       "      <th></th>\n",
       "      <th>company</th>\n",
       "      <th>product</th>\n",
       "      <th>cpu</th>\n",
       "      <th>gpu</th>\n",
       "      <th>dist</th>\n",
       "    </tr>\n",
       "  </thead>\n",
       "  <tbody>\n",
       "    <tr>\n",
       "      <th>1193</th>\n",
       "      <td>Apple</td>\n",
       "      <td>MacBook 12\"</td>\n",
       "      <td>Intel Core M 1.1GHz</td>\n",
       "      <td>Intel HD Graphics 5300</td>\n",
       "      <td>484738.745793</td>\n",
       "    </tr>\n",
       "    <tr>\n",
       "      <th>794</th>\n",
       "      <td>Apple</td>\n",
       "      <td>MacBook 12\"</td>\n",
       "      <td>Intel Core M 1.2GHz</td>\n",
       "      <td>Intel HD Graphics 5300</td>\n",
       "      <td>484738.745793</td>\n",
       "    </tr>\n",
       "    <tr>\n",
       "      <th>14</th>\n",
       "      <td>Apple</td>\n",
       "      <td>MacBook 12\"</td>\n",
       "      <td>Intel Core M m3 1.2GHz</td>\n",
       "      <td>Intel HD Graphics 615</td>\n",
       "      <td>484738.745793</td>\n",
       "    </tr>\n",
       "    <tr>\n",
       "      <th>1069</th>\n",
       "      <td>Apple</td>\n",
       "      <td>MacBook 12\"</td>\n",
       "      <td>Intel Core M 1.1GHz</td>\n",
       "      <td>Intel HD Graphics 515</td>\n",
       "      <td>484738.745793</td>\n",
       "    </tr>\n",
       "    <tr>\n",
       "      <th>1210</th>\n",
       "      <td>Apple</td>\n",
       "      <td>MacBook 12\"</td>\n",
       "      <td>Intel Core M 1.2GHz</td>\n",
       "      <td>Intel HD Graphics 515</td>\n",
       "      <td>484738.745793</td>\n",
       "    </tr>\n",
       "  </tbody>\n",
       "</table>\n",
       "</div>"
      ],
      "text/plain": [
       "     company      product                     cpu                     gpu  \\\n",
       "1193   Apple  MacBook 12\"     Intel Core M 1.1GHz  Intel HD Graphics 5300   \n",
       "794    Apple  MacBook 12\"     Intel Core M 1.2GHz  Intel HD Graphics 5300   \n",
       "14     Apple  MacBook 12\"  Intel Core M m3 1.2GHz   Intel HD Graphics 615   \n",
       "1069   Apple  MacBook 12\"     Intel Core M 1.1GHz   Intel HD Graphics 515   \n",
       "1210   Apple  MacBook 12\"     Intel Core M 1.2GHz   Intel HD Graphics 515   \n",
       "\n",
       "               dist  \n",
       "1193  484738.745793  \n",
       "794   484738.745793  \n",
       "14    484738.745793  \n",
       "1069  484738.745793  \n",
       "1210  484738.745793  "
      ]
     },
     "execution_count": 44,
     "metadata": {},
     "output_type": "execute_result"
    }
   ],
   "source": [
    "# 5 похожих моделей\n",
    "rec1 = skr1.recommend_for_single_object(5, matrix[0])\n",
    "rec1"
   ]
  },
  {
   "cell_type": "code",
   "execution_count": 46,
   "id": "4168e420",
   "metadata": {},
   "outputs": [
    {
     "data": {
      "text/html": [
       "<div>\n",
       "<style scoped>\n",
       "    .dataframe tbody tr th:only-of-type {\n",
       "        vertical-align: middle;\n",
       "    }\n",
       "\n",
       "    .dataframe tbody tr th {\n",
       "        vertical-align: top;\n",
       "    }\n",
       "\n",
       "    .dataframe thead th {\n",
       "        text-align: right;\n",
       "    }\n",
       "</style>\n",
       "<table border=\"1\" class=\"dataframe\">\n",
       "  <thead>\n",
       "    <tr style=\"text-align: right;\">\n",
       "      <th></th>\n",
       "      <th>company</th>\n",
       "      <th>product</th>\n",
       "      <th>cpu</th>\n",
       "      <th>gpu</th>\n",
       "      <th>dist</th>\n",
       "    </tr>\n",
       "  </thead>\n",
       "  <tbody>\n",
       "    <tr>\n",
       "      <th>1069</th>\n",
       "      <td>Apple</td>\n",
       "      <td>MacBook 12\"</td>\n",
       "      <td>Intel Core M 1.1GHz</td>\n",
       "      <td>Intel HD Graphics 515</td>\n",
       "      <td>1.015147e+06</td>\n",
       "    </tr>\n",
       "    <tr>\n",
       "      <th>794</th>\n",
       "      <td>Apple</td>\n",
       "      <td>MacBook 12\"</td>\n",
       "      <td>Intel Core M 1.2GHz</td>\n",
       "      <td>Intel HD Graphics 5300</td>\n",
       "      <td>1.015147e+06</td>\n",
       "    </tr>\n",
       "    <tr>\n",
       "      <th>1210</th>\n",
       "      <td>Apple</td>\n",
       "      <td>MacBook 12\"</td>\n",
       "      <td>Intel Core M 1.2GHz</td>\n",
       "      <td>Intel HD Graphics 515</td>\n",
       "      <td>1.015147e+06</td>\n",
       "    </tr>\n",
       "    <tr>\n",
       "      <th>1193</th>\n",
       "      <td>Apple</td>\n",
       "      <td>MacBook 12\"</td>\n",
       "      <td>Intel Core M 1.1GHz</td>\n",
       "      <td>Intel HD Graphics 5300</td>\n",
       "      <td>1.015147e+06</td>\n",
       "    </tr>\n",
       "    <tr>\n",
       "      <th>81</th>\n",
       "      <td>Apple</td>\n",
       "      <td>MacBook 12\"</td>\n",
       "      <td>Intel Core i5 1.3GHz</td>\n",
       "      <td>Intel HD Graphics 615</td>\n",
       "      <td>1.015147e+06</td>\n",
       "    </tr>\n",
       "  </tbody>\n",
       "</table>\n",
       "</div>"
      ],
      "text/plain": [
       "     company      product                   cpu                     gpu  \\\n",
       "1069   Apple  MacBook 12\"   Intel Core M 1.1GHz   Intel HD Graphics 515   \n",
       "794    Apple  MacBook 12\"   Intel Core M 1.2GHz  Intel HD Graphics 5300   \n",
       "1210   Apple  MacBook 12\"   Intel Core M 1.2GHz   Intel HD Graphics 515   \n",
       "1193   Apple  MacBook 12\"   Intel Core M 1.1GHz  Intel HD Graphics 5300   \n",
       "81     Apple  MacBook 12\"  Intel Core i5 1.3GHz   Intel HD Graphics 615   \n",
       "\n",
       "              dist  \n",
       "1069  1.015147e+06  \n",
       "794   1.015147e+06  \n",
       "1210  1.015147e+06  \n",
       "1193  1.015147e+06  \n",
       "81    1.015147e+06  "
      ]
     },
     "execution_count": 46,
     "metadata": {},
     "output_type": "execute_result"
    }
   ],
   "source": [
    "# При поиске с помощью Евклидова расстояния \n",
    "rec2 = skr1.recommend_for_single_object(5, matrix[0], cos_flag = False)\n",
    "rec2"
   ]
  },
  {
   "cell_type": "code",
   "execution_count": 48,
   "id": "3a3b861a",
   "metadata": {},
   "outputs": [
    {
     "data": {
      "text/html": [
       "<div>\n",
       "<style scoped>\n",
       "    .dataframe tbody tr th:only-of-type {\n",
       "        vertical-align: middle;\n",
       "    }\n",
       "\n",
       "    .dataframe tbody tr th {\n",
       "        vertical-align: top;\n",
       "    }\n",
       "\n",
       "    .dataframe thead th {\n",
       "        text-align: right;\n",
       "    }\n",
       "</style>\n",
       "<table border=\"1\" class=\"dataframe\">\n",
       "  <thead>\n",
       "    <tr style=\"text-align: right;\">\n",
       "      <th></th>\n",
       "      <th>company</th>\n",
       "      <th>product</th>\n",
       "      <th>cpu</th>\n",
       "      <th>gpu</th>\n",
       "      <th>dist</th>\n",
       "    </tr>\n",
       "  </thead>\n",
       "  <tbody>\n",
       "    <tr>\n",
       "      <th>635</th>\n",
       "      <td>Asus</td>\n",
       "      <td>VivoBook Pro</td>\n",
       "      <td>Intel Core i5 7300HQ 2.5GHz</td>\n",
       "      <td>Nvidia GeForce GTX 1050</td>\n",
       "      <td>1.514496e+06</td>\n",
       "    </tr>\n",
       "    <tr>\n",
       "      <th>241</th>\n",
       "      <td>Asus</td>\n",
       "      <td>VivoBook Pro</td>\n",
       "      <td>Intel Core i7 8550U 1.8GHz</td>\n",
       "      <td>Nvidia GeForce 150MX</td>\n",
       "      <td>1.514496e+06</td>\n",
       "    </tr>\n",
       "    <tr>\n",
       "      <th>492</th>\n",
       "      <td>Asus</td>\n",
       "      <td>VivoBook Pro</td>\n",
       "      <td>Intel Core i7 7700HQ 2.8GHz</td>\n",
       "      <td>Nvidia GeForce GTX 1050</td>\n",
       "      <td>1.514496e+06</td>\n",
       "    </tr>\n",
       "    <tr>\n",
       "      <th>65</th>\n",
       "      <td>Asus</td>\n",
       "      <td>ZenBook Pro</td>\n",
       "      <td>Intel Core i7 7700HQ 2.8GHz</td>\n",
       "      <td>Nvidia GeForce GTX 1050 Ti</td>\n",
       "      <td>1.515744e+06</td>\n",
       "    </tr>\n",
       "    <tr>\n",
       "      <th>474</th>\n",
       "      <td>Asus</td>\n",
       "      <td>ZenBook Pro</td>\n",
       "      <td>Intel Core i7 6700HQ 2.6GHz</td>\n",
       "      <td>Intel HD Graphics 530</td>\n",
       "      <td>1.515744e+06</td>\n",
       "    </tr>\n",
       "  </tbody>\n",
       "</table>\n",
       "</div>"
      ],
      "text/plain": [
       "    company       product                          cpu  \\\n",
       "635    Asus  VivoBook Pro  Intel Core i5 7300HQ 2.5GHz   \n",
       "241    Asus  VivoBook Pro   Intel Core i7 8550U 1.8GHz   \n",
       "492    Asus  VivoBook Pro  Intel Core i7 7700HQ 2.8GHz   \n",
       "65     Asus   ZenBook Pro  Intel Core i7 7700HQ 2.8GHz   \n",
       "474    Asus   ZenBook Pro  Intel Core i7 6700HQ 2.6GHz   \n",
       "\n",
       "                            gpu          dist  \n",
       "635     Nvidia GeForce GTX 1050  1.514496e+06  \n",
       "241        Nvidia GeForce 150MX  1.514496e+06  \n",
       "492     Nvidia GeForce GTX 1050  1.514496e+06  \n",
       "65   Nvidia GeForce GTX 1050 Ti  1.515744e+06  \n",
       "474       Intel HD Graphics 530  1.515744e+06  "
      ]
     },
     "execution_count": 48,
     "metadata": {},
     "output_type": "execute_result"
    }
   ],
   "source": [
    "# Манхэттэнское расстояние\n",
    "rec3 = skr1.recommend_for_single_object(5, matrix[0], cos_flag = False, manh_flag = True)\n",
    "rec3"
   ]
  }
 ],
 "metadata": {
  "kernelspec": {
   "display_name": "Python 3",
   "language": "python",
   "name": "python3"
  },
  "language_info": {
   "codemirror_mode": {
    "name": "ipython",
    "version": 3
   },
   "file_extension": ".py",
   "mimetype": "text/x-python",
   "name": "python",
   "nbconvert_exporter": "python",
   "pygments_lexer": "ipython3",
   "version": "3.9.2"
  }
 },
 "nbformat": 4,
 "nbformat_minor": 5
}
