{
 "cells": [
  {
   "cell_type": "markdown",
   "id": "e1b6038f",
   "metadata": {},
   "source": [
    "# Лабораторная работа №6: \"Классификация текста.\"\n",
    "\n",
    "## ИУ5-23 Зорин Арсений\n",
    "\n",
    "**Задание:**\n",
    "- Для произвольного набора данных, предназначенного для классификации текстов, решите задачу классификации текста двумя способами:\n",
    "  - На основе CountVectorizer или TfidfVectorizer.\n",
    "  - На основе моделей word2vec или Glove или fastText.\n",
    "  - Сравните качество полученных моделей."
   ]
  },
  {
   "cell_type": "code",
   "execution_count": 25,
   "id": "7da33541",
   "metadata": {},
   "outputs": [
    {
     "name": "stderr",
     "output_type": "stream",
     "text": [
      "[nltk_data] Downloading package stopwords to\n",
      "[nltk_data]     /Users/a.zorin/nltk_data...\n",
      "[nltk_data]   Package stopwords is already up-to-date!\n"
     ]
    },
    {
     "data": {
      "text/plain": [
       "True"
      ]
     },
     "execution_count": 25,
     "metadata": {},
     "output_type": "execute_result"
    }
   ],
   "source": [
    "import numpy as np\n",
    "import pandas as pd\n",
    "from typing import Dict, Tuple\n",
    "from sklearn.feature_extraction.text import CountVectorizer, TfidfVectorizer\n",
    "from sklearn.model_selection import train_test_split\n",
    "from sklearn.neighbors import KNeighborsRegressor, KNeighborsClassifier\n",
    "from sklearn.linear_model import LogisticRegression\n",
    "from sklearn.model_selection import GridSearchCV, RandomizedSearchCV\n",
    "from sklearn.metrics import accuracy_score, balanced_accuracy_score\n",
    "from sklearn.metrics import precision_score, recall_score, f1_score, classification_report\n",
    "from sklearn.metrics import confusion_matrix\n",
    "from sklearn.model_selection import cross_val_score\n",
    "from sklearn.pipeline import Pipeline\n",
    "from sklearn.metrics import mean_absolute_error, mean_squared_error, mean_squared_log_error, median_absolute_error, r2_score \n",
    "from sklearn.metrics import roc_curve, roc_auc_score\n",
    "from sklearn.svm import SVC, NuSVC, LinearSVC, OneClassSVM, SVR, NuSVR, LinearSVR\n",
    "import seaborn as sns\n",
    "import tensorflow as tf\n",
    "from collections import Counter\n",
    "from sklearn.datasets import fetch_20newsgroups\n",
    "from gensim.models import word2vec\n",
    "from nltk.corpus import stopwords\n",
    "import re\n",
    "import nltk\n",
    "nltk.download('stopwords')"
   ]
  },
  {
   "cell_type": "code",
   "execution_count": 7,
   "id": "df525ec0",
   "metadata": {},
   "outputs": [],
   "source": [
    "categories = ['comp.graphics', 'misc.forsale', 'talk.politics.misc', 'rec.sport.hockey']\n",
    "groups = fetch_20newsgroups(subset='train', categories=categories)\n",
    "data = groups['data']"
   ]
  },
  {
   "cell_type": "code",
   "execution_count": 8,
   "id": "707ad12b",
   "metadata": {},
   "outputs": [],
   "source": [
    "\n",
    "\n",
    "def accuracy_score_for_classes(\n",
    "    y_true: np.ndarray, \n",
    "    y_pred: np.ndarray) -> Dict[int, float]:\n",
    "    \"\"\"\n",
    "    Вычисление метрики accuracy для каждого класса\n",
    "    y_true - истинные значения классов\n",
    "    y_pred - предсказанные значения классов\n",
    "    Возвращает словарь: ключ - метка класса, \n",
    "    значение - Accuracy для данного класса\n",
    "    \"\"\"\n",
    "    # Для удобства фильтрации сформируем Pandas DataFrame \n",
    "    d = {'t': y_true, 'p': y_pred}\n",
    "    df = pd.DataFrame(data=d)\n",
    "    # Метки классов\n",
    "    classes = np.unique(y_true)\n",
    "    # Результирующий словарь\n",
    "    res = dict()\n",
    "    # Перебор меток классов\n",
    "    for c in classes:\n",
    "        # отфильтруем данные, которые соответствуют \n",
    "        # текущей метке класса в истинных значениях\n",
    "        temp_data_flt = df[df['t']==c]\n",
    "        # расчет accuracy для заданной метки класса\n",
    "        temp_acc = accuracy_score(\n",
    "            temp_data_flt['t'].values, \n",
    "            temp_data_flt['p'].values)\n",
    "        # сохранение результата в словарь\n",
    "        res[c] = temp_acc\n",
    "    return res\n",
    "\n",
    "def print_accuracy_score_for_classes(\n",
    "    y_true: np.ndarray, \n",
    "    y_pred: np.ndarray):\n",
    "    \"\"\"\n",
    "    Вывод метрики accuracy для каждого класса\n",
    "    \"\"\"\n",
    "    accs = accuracy_score_for_classes(y_true, y_pred)\n",
    "    if len(accs)>0:\n",
    "        print('Метка \\t Accuracy')\n",
    "    for i in accs:\n",
    "        print('{} \\t {}'.format(i, accs[i]))"
   ]
  },
  {
   "cell_type": "code",
   "execution_count": 9,
   "id": "b354b454",
   "metadata": {},
   "outputs": [
    {
     "name": "stdout",
     "output_type": "stream",
     "text": [
      "Количество сформированных признаков - 34701\n"
     ]
    }
   ],
   "source": [
    "vectorized = CountVectorizer()\n",
    "vectorized.fit(data)\n",
    "vocabulary = vectorized.vocabulary_\n",
    "print('Количество сформированных признаков - {}'.format(len(vocabulary)))"
   ]
  },
  {
   "cell_type": "code",
   "execution_count": 10,
   "id": "cdb0cb7b",
   "metadata": {},
   "outputs": [
    {
     "name": "stdout",
     "output_type": "stream",
     "text": [
      "dwarf=12688\n",
      "bcarh601=6807\n",
      "bnr=7381\n",
      "ca=8258\n",
      "jim=18501\n",
      "jordan=18615\n",
      "subject=30225\n",
      "re=26291\n",
      "truly=31992\n"
     ]
    }
   ],
   "source": [
    "for i in list(vocabulary)[1:10]:\n",
    "    print('{}={}'.format(i, vocabulary[i]))"
   ]
  },
  {
   "cell_type": "code",
   "execution_count": 11,
   "id": "46f087ae",
   "metadata": {},
   "outputs": [
    {
     "data": {
      "text/plain": [
       "<2234x34701 sparse matrix of type '<class 'numpy.int64'>'\n",
       "\twith 317800 stored elements in Compressed Sparse Row format>"
      ]
     },
     "execution_count": 11,
     "metadata": {},
     "output_type": "execute_result"
    }
   ],
   "source": [
    "test_features = vectorized.transform(data)\n",
    "test_features"
   ]
  },
  {
   "cell_type": "code",
   "execution_count": 12,
   "id": "3ea1c523",
   "metadata": {},
   "outputs": [
    {
     "data": {
      "text/plain": [
       "34701"
      ]
     },
     "execution_count": 12,
     "metadata": {},
     "output_type": "execute_result"
    }
   ],
   "source": [
    "# Размер нулевой строки\n",
    "len(test_features.todense()[0].getA1())"
   ]
  },
  {
   "cell_type": "code",
   "execution_count": 16,
   "id": "d5560bc5",
   "metadata": {},
   "outputs": [],
   "source": [
    "def VectorizeAndClassify(vectorizers_list, classifiers_list):\n",
    "    for v in vectorizers_list:\n",
    "        for c in classifiers_list:\n",
    "            pipeline1 = Pipeline([(\"vectorizer\", v), (\"classifier\", c)])\n",
    "            score = cross_val_score(pipeline1, groups['data'], groups['target'], scoring='accuracy', cv=3).mean()\n",
    "            print('Векторизация - {}'.format(v))\n",
    "            print('Модель для классификации - {}'.format(c))\n",
    "            print('Accuracy = {}'.format(score))\n",
    "            print('===========================')"
   ]
  },
  {
   "cell_type": "code",
   "execution_count": 17,
   "id": "fa36c3c9",
   "metadata": {},
   "outputs": [
    {
     "name": "stderr",
     "output_type": "stream",
     "text": [
      "/usr/local/lib/python3.9/site-packages/sklearn/linear_model/_logistic.py:763: ConvergenceWarning: lbfgs failed to converge (status=1):\n",
      "STOP: TOTAL NO. of ITERATIONS REACHED LIMIT.\n",
      "\n",
      "Increase the number of iterations (max_iter) or scale the data as shown in:\n",
      "    https://scikit-learn.org/stable/modules/preprocessing.html\n",
      "Please also refer to the documentation for alternative solver options:\n",
      "    https://scikit-learn.org/stable/modules/linear_model.html#logistic-regression\n",
      "  n_iter_i = _check_optimize_result(\n",
      "/usr/local/lib/python3.9/site-packages/sklearn/linear_model/_logistic.py:763: ConvergenceWarning: lbfgs failed to converge (status=1):\n",
      "STOP: TOTAL NO. of ITERATIONS REACHED LIMIT.\n",
      "\n",
      "Increase the number of iterations (max_iter) or scale the data as shown in:\n",
      "    https://scikit-learn.org/stable/modules/preprocessing.html\n",
      "Please also refer to the documentation for alternative solver options:\n",
      "    https://scikit-learn.org/stable/modules/linear_model.html#logistic-regression\n",
      "  n_iter_i = _check_optimize_result(\n",
      "/usr/local/lib/python3.9/site-packages/sklearn/linear_model/_logistic.py:763: ConvergenceWarning: lbfgs failed to converge (status=1):\n",
      "STOP: TOTAL NO. of ITERATIONS REACHED LIMIT.\n",
      "\n",
      "Increase the number of iterations (max_iter) or scale the data as shown in:\n",
      "    https://scikit-learn.org/stable/modules/preprocessing.html\n",
      "Please also refer to the documentation for alternative solver options:\n",
      "    https://scikit-learn.org/stable/modules/linear_model.html#logistic-regression\n",
      "  n_iter_i = _check_optimize_result(\n"
     ]
    },
    {
     "name": "stdout",
     "output_type": "stream",
     "text": [
      "Векторизация - CountVectorizer(vocabulary={'00': 0, '000': 1, '000005102000': 2, '000007': 3,\n",
      "                            '000100255pixel': 4, '000256': 5, '0004': 6,\n",
      "                            '0007': 7, '000k': 8, '000usd': 9, '001': 10,\n",
      "                            '0010': 11, '0010580b': 12, '001116': 13,\n",
      "                            '001200201pixel': 14, '001323': 15, '001338': 16,\n",
      "                            '00196': 17, '002': 18, '002302': 19, '002339': 20,\n",
      "                            '0028': 21, '00309': 22, '003221': 23, '0038': 24,\n",
      "                            '003848': 25, '0039': 26, '004253agrgb': 27,\n",
      "                            '004325': 28, '004808': 29, ...})\n",
      "Модель для классификации - LogisticRegression(C=3.0)\n",
      "Accuracy = 0.9462882778860263\n",
      "===========================\n",
      "Векторизация - CountVectorizer(vocabulary={'00': 0, '000': 1, '000005102000': 2, '000007': 3,\n",
      "                            '000100255pixel': 4, '000256': 5, '0004': 6,\n",
      "                            '0007': 7, '000k': 8, '000usd': 9, '001': 10,\n",
      "                            '0010': 11, '0010580b': 12, '001116': 13,\n",
      "                            '001200201pixel': 14, '001323': 15, '001338': 16,\n",
      "                            '00196': 17, '002': 18, '002302': 19, '002339': 20,\n",
      "                            '0028': 21, '00309': 22, '003221': 23, '0038': 24,\n",
      "                            '003848': 25, '0039': 26, '004253agrgb': 27,\n",
      "                            '004325': 28, '004808': 29, ...})\n",
      "Модель для классификации - LinearSVC()\n",
      "Accuracy = 0.9480779870582858\n",
      "===========================\n",
      "Векторизация - CountVectorizer(vocabulary={'00': 0, '000': 1, '000005102000': 2, '000007': 3,\n",
      "                            '000100255pixel': 4, '000256': 5, '0004': 6,\n",
      "                            '0007': 7, '000k': 8, '000usd': 9, '001': 10,\n",
      "                            '0010': 11, '0010580b': 12, '001116': 13,\n",
      "                            '001200201pixel': 14, '001323': 15, '001338': 16,\n",
      "                            '00196': 17, '002': 18, '002302': 19, '002339': 20,\n",
      "                            '0028': 21, '00309': 22, '003221': 23, '0038': 24,\n",
      "                            '003848': 25, '0039': 26, '004253agrgb': 27,\n",
      "                            '004325': 28, '004808': 29, ...})\n",
      "Модель для классификации - KNeighborsClassifier()\n",
      "Accuracy = 0.689341728608886\n",
      "===========================\n",
      "Векторизация - TfidfVectorizer(vocabulary={'00': 0, '000': 1, '000005102000': 2, '000007': 3,\n",
      "                            '000100255pixel': 4, '000256': 5, '0004': 6,\n",
      "                            '0007': 7, '000k': 8, '000usd': 9, '001': 10,\n",
      "                            '0010': 11, '0010580b': 12, '001116': 13,\n",
      "                            '001200201pixel': 14, '001323': 15, '001338': 16,\n",
      "                            '00196': 17, '002': 18, '002302': 19, '002339': 20,\n",
      "                            '0028': 21, '00309': 22, '003221': 23, '0038': 24,\n",
      "                            '003848': 25, '0039': 26, '004253agrgb': 27,\n",
      "                            '004325': 28, '004808': 29, ...})\n",
      "Модель для классификации - LogisticRegression(C=3.0)\n",
      "Accuracy = 0.9588204517572346\n",
      "===========================\n",
      "Векторизация - TfidfVectorizer(vocabulary={'00': 0, '000': 1, '000005102000': 2, '000007': 3,\n",
      "                            '000100255pixel': 4, '000256': 5, '0004': 6,\n",
      "                            '0007': 7, '000k': 8, '000usd': 9, '001': 10,\n",
      "                            '0010': 11, '0010580b': 12, '001116': 13,\n",
      "                            '001200201pixel': 14, '001323': 15, '001338': 16,\n",
      "                            '00196': 17, '002': 18, '002302': 19, '002339': 20,\n",
      "                            '0028': 21, '00309': 22, '003221': 23, '0038': 24,\n",
      "                            '003848': 25, '0039': 26, '004253agrgb': 27,\n",
      "                            '004325': 28, '004808': 29, ...})\n",
      "Модель для классификации - LinearSVC()\n",
      "Accuracy = 0.9677726059031536\n",
      "===========================\n",
      "Векторизация - TfidfVectorizer(vocabulary={'00': 0, '000': 1, '000005102000': 2, '000007': 3,\n",
      "                            '000100255pixel': 4, '000256': 5, '0004': 6,\n",
      "                            '0007': 7, '000k': 8, '000usd': 9, '001': 10,\n",
      "                            '0010': 11, '0010580b': 12, '001116': 13,\n",
      "                            '001200201pixel': 14, '001323': 15, '001338': 16,\n",
      "                            '00196': 17, '002': 18, '002302': 19, '002339': 20,\n",
      "                            '0028': 21, '00309': 22, '003221': 23, '0038': 24,\n",
      "                            '003848': 25, '0039': 26, '004253agrgb': 27,\n",
      "                            '004325': 28, '004808': 29, ...})\n",
      "Модель для классификации - KNeighborsClassifier()\n",
      "Accuracy = 0.8325906280820764\n",
      "===========================\n"
     ]
    }
   ],
   "source": [
    "vectorizers_list = [CountVectorizer(vocabulary = vocabulary), TfidfVectorizer(vocabulary = vocabulary)]\n",
    "classifiers_list = [LogisticRegression(C=3.0), LinearSVC(), KNeighborsClassifier()]\n",
    "VectorizeAndClassify(vectorizers_list, classifiers_list)"
   ]
  },
  {
   "cell_type": "code",
   "execution_count": 26,
   "id": "c8270492",
   "metadata": {},
   "outputs": [],
   "source": [
    "# word2vec \n",
    "vocabular = []\n",
    "stop_words = stopwords.words('english')\n",
    "tok = nltk.tokenize.WordPunctTokenizer()\n",
    "for line in groups['data']:\n",
    "    line = line.strip().lower()\n",
    "    line = re.sub(\"[^a-zA-Z]\",\" \", line)\n",
    "    token = tok.tokenize(line)\n",
    "    token = [w for w in token if not w in stop_words]\n",
    "    vocabular.append(token)"
   ]
  },
  {
   "cell_type": "code",
   "execution_count": 28,
   "id": "53252604",
   "metadata": {},
   "outputs": [
    {
     "name": "stdout",
     "output_type": "stream",
     "text": [
      "CPU times: user 2.7 s, sys: 53.7 ms, total: 2.76 s\n",
      "Wall time: 1.54 s\n"
     ]
    }
   ],
   "source": [
    "%time model_data = word2vec.Word2Vec(vocabular, workers=2, min_count=10, window=15, sample=1e-3)"
   ]
  },
  {
   "cell_type": "code",
   "execution_count": 29,
   "id": "d5053bad",
   "metadata": {},
   "outputs": [],
   "source": [
    "def sentiment(v, c):\n",
    "    model = Pipeline(\n",
    "        [(\"vectorizer\", v), \n",
    "         (\"classifier\", c)])\n",
    "    model.fit(X_train, y_train)\n",
    "    y_pred = model.predict(X_test)\n",
    "    print_accuracy_score_for_classes(y_test, y_pred)"
   ]
  },
  {
   "cell_type": "code",
   "execution_count": 30,
   "id": "c5af9aba",
   "metadata": {},
   "outputs": [],
   "source": [
    "class EmbeddingVectorizer(object):\n",
    "    def __init__(self, model):\n",
    "        self.model = model\n",
    "        self.size = model.vector_size\n",
    "\n",
    "    def fit(self, X, y):\n",
    "        return self\n",
    "\n",
    "    def transform(self, X):\n",
    "        return np.array([np.mean(\n",
    "            [self.model[w] for w in words if w in self.model] \n",
    "            or [np.zeros(self.size)], axis=0)\n",
    "            for words in X])"
   ]
  },
  {
   "cell_type": "code",
   "execution_count": 31,
   "id": "cae74e37",
   "metadata": {},
   "outputs": [],
   "source": [
    "boundary = 800\n",
    "X_train = vocabular[:boundary] \n",
    "X_test = vocabular[boundary:]\n",
    "y_train = groups['target'][:boundary]\n",
    "y_test = groups['target'][boundary:]"
   ]
  },
  {
   "cell_type": "code",
   "execution_count": 32,
   "id": "835ace5c",
   "metadata": {},
   "outputs": [
    {
     "name": "stderr",
     "output_type": "stream",
     "text": [
      "/usr/local/lib/python3.9/site-packages/sklearn/linear_model/_logistic.py:763: ConvergenceWarning: lbfgs failed to converge (status=1):\n",
      "STOP: TOTAL NO. of ITERATIONS REACHED LIMIT.\n",
      "\n",
      "Increase the number of iterations (max_iter) or scale the data as shown in:\n",
      "    https://scikit-learn.org/stable/modules/preprocessing.html\n",
      "Please also refer to the documentation for alternative solver options:\n",
      "    https://scikit-learn.org/stable/modules/linear_model.html#logistic-regression\n",
      "  n_iter_i = _check_optimize_result(\n"
     ]
    },
    {
     "name": "stdout",
     "output_type": "stream",
     "text": [
      "Метка \t Accuracy\n",
      "0 \t 0.9277777777777778\n",
      "1 \t 0.8564102564102564\n",
      "2 \t 0.9714285714285714\n",
      "3 \t 0.9230769230769231\n"
     ]
    }
   ],
   "source": [
    "sentiment(EmbeddingVectorizer(model_data.wv), LogisticRegression(C=5.0))"
   ]
  }
 ],
 "metadata": {
  "kernelspec": {
   "display_name": "Python 3",
   "language": "python",
   "name": "python3"
  },
  "language_info": {
   "codemirror_mode": {
    "name": "ipython",
    "version": 3
   },
   "file_extension": ".py",
   "mimetype": "text/x-python",
   "name": "python",
   "nbconvert_exporter": "python",
   "pygments_lexer": "ipython3",
   "version": "3.9.2"
  }
 },
 "nbformat": 4,
 "nbformat_minor": 5
}
